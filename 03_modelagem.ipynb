{
 "cells": [
  {
   "attachments": {},
   "cell_type": "markdown",
   "metadata": {},
   "source": [
    "# Lighthouse - Desafio de Ciência de Dados"
   ]
  },
  {
   "attachments": {},
   "cell_type": "markdown",
   "metadata": {},
   "source": [
    "**Autor**: Antonio Duarte Marcos Junior"
   ]
  },
  {
   "attachments": {},
   "cell_type": "markdown",
   "metadata": {},
   "source": [
    "# 3. Modelagem"
   ]
  },
  {
   "attachments": {},
   "cell_type": "markdown",
   "metadata": {},
   "source": [
    "## 3.1 Descrição do problema."
   ]
  },
  {
   "attachments": {},
   "cell_type": "markdown",
   "metadata": {},
   "source": [
    "O problema proposto trata-se em criar um modelo capaz de predizer o valor de um veículo a partir das features informadas.\n",
    "\n",
    "Trata-se portanto de um problema de regressão.\n",
    "\n",
    "Algumas transformações já foram feitas nos dados e descritas no arquivo `01_analise_exploratoria.ipynb`.\n",
    "\n",
    "Neste arquivo será dado proseguimento na análise e tratamento dos dados."
   ]
  },
  {
   "attachments": {},
   "cell_type": "markdown",
   "metadata": {},
   "source": [
    "## 3.2 Leitura dos dados e importação das principais bibliotecas."
   ]
  },
  {
   "cell_type": "code",
   "execution_count": 26,
   "metadata": {},
   "outputs": [],
   "source": [
    "import pandas  as pd\n",
    "import numpy   as np\n",
    "import seaborn as sns\n",
    "import matplotlib.pyplot as plt\n",
    "\n",
    "df_train = pd.read_csv('./dados/cars_train_v2.csv')\n",
    "df_test = pd.read_csv('./dados/cars_test.csv', sep='\\t', encoding='utf-16')"
   ]
  },
  {
   "attachments": {},
   "cell_type": "markdown",
   "metadata": {},
   "source": [
    "## 3.3 Compatibilidade entre os datasets"
   ]
  },
  {
   "attachments": {},
   "cell_type": "markdown",
   "metadata": {},
   "source": [
    "Para a aplicação de um modelo de predição é necessário que ambos os datasets tenham informações semelhantes."
   ]
  },
  {
   "attachments": {},
   "cell_type": "markdown",
   "metadata": {},
   "source": [
    "### Marcas"
   ]
  },
  {
   "attachments": {},
   "cell_type": "markdown",
   "metadata": {},
   "source": [
    "Verificando se há as mesmas marcas em ambos os dataset. O ideal é que o dataset de test tenha as mesmas marcas do dataset de treino."
   ]
  },
  {
   "cell_type": "code",
   "execution_count": 27,
   "metadata": {},
   "outputs": [
    {
     "name": "stdout",
     "output_type": "stream",
     "text": [
      "Marcas no dataset de test e que não estão no dataset de treino\n",
      "LAMBORGHINI\n",
      "Número de registros desta marca = 1\n"
     ]
    }
   ],
   "source": [
    "print('Marcas no dataset de test e que não estão no dataset de treino')\n",
    "for marca in df_test['marca'].unique():\n",
    "    if marca not in df_train['marca'].unique():\n",
    "        print(marca)\n",
    "        print('Número de registros desta marca =', len(df_test.query(f'marca == \"{marca}\"')))"
   ]
  },
  {
   "attachments": {},
   "cell_type": "markdown",
   "metadata": {},
   "source": [
    "### Número de portas"
   ]
  },
  {
   "cell_type": "code",
   "execution_count": 28,
   "metadata": {},
   "outputs": [
    {
     "name": "stdout",
     "output_type": "stream",
     "text": [
      "Número de portas no dataset de test e que não estão no dataset de treino\n"
     ]
    }
   ],
   "source": [
    "print('Número de portas no dataset de test e que não estão no dataset de treino')\n",
    "for portas in df_test['num_portas'].unique():\n",
    "    if portas not in df_train['num_portas'].unique():\n",
    "        print(portas)\n",
    "        print('Número de registros deste número de portas =', len(df_test.query(f'num_portas == {portas}')))"
   ]
  },
  {
   "attachments": {},
   "cell_type": "markdown",
   "metadata": {},
   "source": [
    "## Tipo de veículo"
   ]
  },
  {
   "cell_type": "code",
   "execution_count": 29,
   "metadata": {},
   "outputs": [
    {
     "name": "stdout",
     "output_type": "stream",
     "text": [
      "Tipo de carro no dataset de test e que não estão no dataset de treino\n",
      "Conversível\n",
      "Número de registros deste tipo = 1\n"
     ]
    }
   ],
   "source": [
    "print('Tipo de carro no dataset de test e que não estão no dataset de treino')\n",
    "for tipo in df_test['tipo'].unique():\n",
    "    if tipo not in df_train['tipo'].unique():\n",
    "        print(tipo)\n",
    "        print('Número de registros deste tipo =', len(df_test.query(f'tipo == \"{tipo}\"')))"
   ]
  },
  {
   "attachments": {},
   "cell_type": "markdown",
   "metadata": {},
   "source": [
    "### Cor"
   ]
  },
  {
   "cell_type": "code",
   "execution_count": 30,
   "metadata": {},
   "outputs": [
    {
     "name": "stdout",
     "output_type": "stream",
     "text": [
      "Cor de carro no dataset de test e que não estão no dataset de treino\n",
      "Azul\n",
      "Número de registros desta cor = 1\n"
     ]
    }
   ],
   "source": [
    "print('Cor de carro no dataset de test e que não estão no dataset de treino')\n",
    "for cor in df_test['cor'].unique():\n",
    "    if cor not in df_train['cor'].unique():\n",
    "        print(cor)\n",
    "        print('Número de registros desta cor =', len(df_test.query(f'cor == \"{cor}\"')))"
   ]
  },
  {
   "attachments": {},
   "cell_type": "markdown",
   "metadata": {},
   "source": [
    "Como tais informações não estão no dataset de treino o modelo poderá ter dificuldades para lidar com elas. Porém, como são poucos registros, a príncipio, irá se optar por mantê-los."
   ]
  },
  {
   "attachments": {},
   "cell_type": "markdown",
   "metadata": {},
   "source": [
    "## 3.4 Separação dos conjuntos de treino e teste."
   ]
  },
  {
   "attachments": {},
   "cell_type": "markdown",
   "metadata": {},
   "source": [
    "Foram fornecidos dois datasets: treino e teste. Mas como o dataset de teste não contém a coluna de preço não poderá ser utilizado para avaliar os modelos. Assim, é necessário dividir o conjunto fornecido para treino em dois conjuntos: treino e teste.\n",
    "\n",
    "A avaliação dos modelos também será feita utilizando validação cruzada. Então no final o modelo será testado em conjuntos de treino, teste e validação.\n",
    "\n",
    "Optou-se por fazer a divisão inicial em 20% para teste e 80% para treino. Buscou-se manter a estratificação por estado anunciado, uma maneira de se manter parte da distribuição original dos dados. \n",
    "\n",
    "Algumas marcas irão aparecer no conjunto `x_test` e não no `x_train`, semelhante ao que acontece no conjunto real. Isto permite testar o modelo em uma condição mais próxima do que realmente aconteceria."
   ]
  },
  {
   "cell_type": "code",
   "execution_count": 31,
   "metadata": {},
   "outputs": [],
   "source": [
    "from sklearn.model_selection import train_test_split\n",
    "\n",
    "X = df_train.drop(columns='preco') # Features\n",
    "y = df_train['preco'] # Target\n",
    "x_train, x_test, y_train, y_test = train_test_split(X, y, test_size=0.3, stratify=X['estado_vendedor'])"
   ]
  },
  {
   "cell_type": "code",
   "execution_count": 32,
   "metadata": {},
   "outputs": [
    {
     "name": "stdout",
     "output_type": "stream",
     "text": [
      "Marcas no dataset de test e que não estão no dataset de treino\n",
      "FERRARI\n",
      "Número de registros desta marca = 1\n",
      "========================================\n",
      "Tipo de carro no dataset de test e que não estão no dataset de treino\n",
      "========================================\n",
      "Cor de carro no dataset de test e que não estão no dataset de treino\n",
      "Verde\n",
      "Número de registros desta cor = 1\n"
     ]
    }
   ],
   "source": [
    "print('Marcas no dataset de test e que não estão no dataset de treino')\n",
    "for marca in x_test['marca'].unique():\n",
    "    if marca not in x_train['marca'].unique():\n",
    "        print(marca)\n",
    "        print('Número de registros desta marca =', len(x_test.query(f'marca == \"{marca}\"')))\n",
    "print('='*40)\n",
    "print('Tipo de carro no dataset de test e que não estão no dataset de treino')\n",
    "for tipo in x_test['tipo'].unique():\n",
    "    if tipo not in x_train['tipo'].unique():\n",
    "        print(tipo)\n",
    "        print('Número de registros deste tipo =', len(x_test.query(f'tipo == \"{tipo}\"')))\n",
    "print('='*40)\n",
    "print('Cor de carro no dataset de test e que não estão no dataset de treino')\n",
    "for cor in x_test['cor'].unique():\n",
    "    if cor not in x_train['cor'].unique():\n",
    "        print(cor)\n",
    "        print('Número de registros desta cor =', len(x_test.query(f'cor == \"{cor}\"')))"
   ]
  },
  {
   "attachments": {},
   "cell_type": "markdown",
   "metadata": {},
   "source": [
    "Também é importante que a variável `preco`, nosso target, tenha a mesma distribuição de dados nos conjuntos. Para verificar se todos os conjuntos têm a mesma distribuição de probabilidade será aplicado o teste de Kolmogorov-Smirnov."
   ]
  },
  {
   "cell_type": "code",
   "execution_count": 33,
   "metadata": {},
   "outputs": [
    {
     "name": "stdout",
     "output_type": "stream",
     "text": [
      "KS teste entre: y e y_train\n",
      "P valor =  1.0\n",
      "Aceitar hipótese nula. As amostras pertecem à mesma distribuição.\n",
      "========================================\n",
      "KS teste entre: y e y_test\n",
      "P valor =  0.989\n",
      "Aceitar hipótese nula. As amostras pertecem à mesma distribuição.\n",
      "========================================\n",
      "KS teste entre: y_train e y_test\n",
      "P valor =  0.858\n",
      "Aceitar hipótese nula. As amostras pertecem à mesma distribuição.\n"
     ]
    }
   ],
   "source": [
    "from scipy.stats import kstest\n",
    "\n",
    "def make_kstest(x1, x2):\n",
    "    statistic, pvalue = kstest(x1, x2)\n",
    "    print('P valor = ', round(pvalue, 3))\n",
    "    if pvalue < 0.05:\n",
    "        print(\"Rejeitar hipótese nula. As amostras não pertecem à mesma distribuição.\")\n",
    "    else:\n",
    "        print(\"Aceitar hipótese nula. As amostras pertecem à mesma distribuição.\")\n",
    "\n",
    "print('KS teste entre: y e y_train')\n",
    "make_kstest(y, y_train)\n",
    "print('='*40)\n",
    "print('KS teste entre: y e y_test')\n",
    "make_kstest(y, y_test)\n",
    "print('='*40)\n",
    "print('KS teste entre: y_train e y_test')\n",
    "make_kstest(y_train, y_test)\n"
   ]
  },
  {
   "attachments": {},
   "cell_type": "markdown",
   "metadata": {},
   "source": [
    "Os resultados mostram que os conjuntos utilizados pertencem a mesma probabilidade portanto a divisão feita está adequada."
   ]
  },
  {
   "attachments": {},
   "cell_type": "markdown",
   "metadata": {},
   "source": [
    "## 3.5 Transformação dos dados."
   ]
  },
  {
   "attachments": {},
   "cell_type": "markdown",
   "metadata": {},
   "source": [
    "Como visto na análise exploratória os preços dos veículos não são normalmente distribuídos e apresentam vários outilers. \n",
    "Antes de partir para a remoção de outilers. O que pode eliminar a informação de algumas marcas, e gerar erros quando o modelo se deparar com marcas desconhecidas. Será aplicada a transformação de Box-Cox na série do preços. Esta transformação busca ajustar os dados a uma distribuição normal, diminuindo assim o efeito de outliers."
   ]
  },
  {
   "cell_type": "code",
   "execution_count": 34,
   "metadata": {},
   "outputs": [
    {
     "data": {
      "text/plain": [
       "-0.017240402416302755"
      ]
     },
     "execution_count": 34,
     "metadata": {},
     "output_type": "execute_result"
    }
   ],
   "source": [
    "from scipy.stats import boxcox\n",
    "\n",
    "yt, lamda = boxcox(y_train)\n",
    "lamda"
   ]
  },
  {
   "attachments": {},
   "cell_type": "markdown",
   "metadata": {},
   "source": [
    "A transformação de Box-Cox utiliza a seguinte formulação.\n",
    "\n",
    "$$ y_i^{(\\lambda)} = \\begin{cases}\n",
    "\\frac{y_i^{(\\lambda)} - 1}{\\lambda} & se & \\lambda \\neq 0\\\\ \n",
    "ln(y_i)  & se &  \\lambda = 0\\\\ \n",
    "\\end{cases}$$\n",
    "\n",
    "Em que:\n",
    "\n",
    "$y_i$ é o valor da variável que deseja-se transformar.\n",
    "\n",
    "$\\lambda$ é o parâmetro de transformação."
   ]
  },
  {
   "attachments": {},
   "cell_type": "markdown",
   "metadata": {},
   "source": [
    "Como o $\\lambda$ (lambda) encontrado é praticamente igual a zero pode-se assumir a transformação utilizando apenas o cálculo do logaritmo."
   ]
  },
  {
   "cell_type": "code",
   "execution_count": 35,
   "metadata": {},
   "outputs": [
    {
     "data": {
      "image/png": "[encoded data removed]",
      "text/plain": [
       "<Figure size 640x480 with 1 Axes>"
      ]
     },
     "metadata": {},
     "output_type": "display_data"
    }
   ],
   "source": [
    "yt = np.log(y_train)\n",
    "sns.histplot(y_train)\n",
    "plt.title('Histograma dos preços antes da transformação')\n",
    "plt.show()"
   ]
  },
  {
   "cell_type": "code",
   "execution_count": 36,
   "metadata": {},
   "outputs": [
    {
     "data": {
      "image/png": "[encoded data removed]",
      "text/plain": [
       "<Figure size 640x480 with 1 Axes>"
      ]
     },
     "metadata": {},
     "output_type": "display_data"
    }
   ],
   "source": [
    "sns.histplot(yt)\n",
    "plt.title('Histograma dos preços depois da transformação')\n",
    "plt.show()"
   ]
  },
  {
   "cell_type": "code",
   "execution_count": 37,
   "metadata": {},
   "outputs": [
    {
     "data": {
      "image/png": "[encoded data removed]",
      "text/plain": [
       "<Figure size 1500x900 with 2 Axes>"
      ]
     },
     "metadata": {},
     "output_type": "display_data"
    }
   ],
   "source": [
    "from scipy.stats import probplot\n",
    "from scipy import stats\n",
    "\n",
    "fig, axes = plt.subplots(2, dpi=150, figsize=(10, 6),\n",
    "                         sharex=True)\n",
    "prob1 = probplot(y_train, dist=stats.norm, plot=axes[0])\n",
    "prob2 = probplot(yt, dist=stats.norm, plot=axes[1])\n",
    "axes[0].set_title('Distribuição antes da transformação')\n",
    "axes[1].set_title('Distribuição após a transformação')\n",
    "plt.show()"
   ]
  },
  {
   "attachments": {},
   "cell_type": "markdown",
   "metadata": {},
   "source": [
    "O gráfico acima mostra que após a transformação de Box-Cox os preços dos veículos ficaram bem mais próximos de uma distribuição normal (linha vermelha no gráfico). Apenas nos extremos existem alguns pontos que se afastam. Mas isto mostra que a transformação foi suficiente para reduzir significativamente a influência de outiliers nos dados.\n",
    "\n",
    "Considerar lambda igual a zero facilita o processo de transformação inversa dos valores. Pois, bastará calcular o exponencial do valor predito para se ter o preço do veículo na escala original."
   ]
  },
  {
   "cell_type": "code",
   "execution_count": 38,
   "metadata": {},
   "outputs": [],
   "source": [
    "y_train = np.log(y_train)\n",
    "y_test = np.log(y_test)"
   ]
  },
  {
   "attachments": {},
   "cell_type": "markdown",
   "metadata": {},
   "source": [
    "O mesmo procedimento será aplicado ao `hodometro` para ter-se features com ordens de grandeza semelhantes."
   ]
  },
  {
   "cell_type": "code",
   "execution_count": 39,
   "metadata": {},
   "outputs": [
    {
     "data": {
      "text/plain": [
       "0.5867603823151858"
      ]
     },
     "execution_count": 39,
     "metadata": {},
     "output_type": "execute_result"
    }
   ],
   "source": [
    "hodot, lambda_hodometro = boxcox(x_train['hodometro'])\n",
    "lambda_hodometro"
   ]
  },
  {
   "attachments": {},
   "cell_type": "markdown",
   "metadata": {},
   "source": [
    "Como o valor encontrado de lambda não é próximo de zero não será aplicada a tranformação utilizando o logaritmo."
   ]
  },
  {
   "cell_type": "code",
   "execution_count": 40,
   "metadata": {},
   "outputs": [],
   "source": [
    "x_train['hodometro'] = hodot\n",
    "x_test['hodometro'] = boxcox(x_test['hodometro'], lmbda=lambda_hodometro)"
   ]
  },
  {
   "attachments": {},
   "cell_type": "markdown",
   "metadata": {},
   "source": [
    "## 3.4 Seleção de features"
   ]
  },
  {
   "attachments": {},
   "cell_type": "markdown",
   "metadata": {},
   "source": [
    "### Seleção de features para simplificação do problema"
   ]
  },
  {
   "attachments": {},
   "cell_type": "markdown",
   "metadata": {},
   "source": [
    "As seguintes features serão removidas para simplificar a modelagem.\n",
    "\n",
    "* `ano_de_fabricacao`: Pois foi criada a feature idade derivada da mesma. Seria portanto uma informação redundante.\n",
    "* `ano_modelo`: Está relacionada ao ano de fabricação e também dificulta a generalização do modelo. Deseja-se um modelo capaz de generalizar os resultados o máximo possível. Incluir uma informação como ano poderá causar dificuldade para o modelo generalizar para um ano fora da listagem.\n",
    "* `cidade_vendedor`: Há grande quantidade de cidades existente e algumas com nomes iguais. Será removida para simplificar o problema.\n",
    "* `versao`: As principais informações desta coluna já foram extraídas e colocadas em novas features.\n",
    "* `num_fotos`: As fotos são importantes para atrair o interesse em um possível comprador. Seria útil em um modelo para medir a probabilidade de venda. Mas para precificar um veículo não são tão relevantes.\n",
    "* `modelo`: Há um total de 457 modelos anunciados e para simplificar o problema esta feature será desconsiderada."
   ]
  },
  {
   "cell_type": "code",
   "execution_count": 41,
   "metadata": {},
   "outputs": [],
   "source": [
    "x_train.drop(columns=['ano_de_fabricacao',\n",
    "                      'ano_modelo',\n",
    "                      'cidade_vendedor',\n",
    "                      'versao',\n",
    "                      'num_fotos',\n",
    "                      'modelo'],\n",
    "             inplace=True)\n",
    "x_test.drop(columns=['ano_de_fabricacao',\n",
    "                     'ano_modelo',\n",
    "                     'cidade_vendedor',\n",
    "                     'versao',\n",
    "                     'num_fotos',\n",
    "                     'modelo'],\n",
    "           inplace=True)"
   ]
  },
  {
   "attachments": {},
   "cell_type": "markdown",
   "metadata": {},
   "source": [
    "### Remoção de features com baixa variância."
   ]
  },
  {
   "attachments": {},
   "cell_type": "markdown",
   "metadata": {},
   "source": [
    "Features com baixa variância são aquelas em que a maiorias dos valores estão concentrados em apenas uma categoria. Serão selecionadas as features com variância mínima de 16%. "
   ]
  },
  {
   "cell_type": "code",
   "execution_count": 42,
   "metadata": {},
   "outputs": [
    {
     "data": {
      "text/plain": [
       "array(['hodometro', 'entrega_delivery', 'dono_aceita_troca',\n",
       "       'veiculo_único_dono', 'revisoes_concessionaria', 'ipva_pago',\n",
       "       'veiculo_licenciado', 'idade'], dtype=object)"
      ]
     },
     "execution_count": 42,
     "metadata": {},
     "output_type": "execute_result"
    }
   ],
   "source": [
    "from sklearn.feature_selection import VarianceThreshold\n",
    "\n",
    "numerical_columns = ['hodometro', 'num_portas', 'blindado',\n",
    "                     'entrega_delivery', 'troca', \n",
    "                     'dono_aceita_troca', 'veiculo_único_dono',\n",
    "                     'revisoes_concessionaria', 'ipva_pago', 'veiculo_licenciado',\n",
    "                     'garantia_de_fábrica', 'revisoes_dentro_agenda',\n",
    "                     'tracao_4x4', 'idade']\n",
    "sel = VarianceThreshold(threshold=0.16)\n",
    "sel.fit(df_train[numerical_columns])\n",
    "sel.get_feature_names_out()"
   ]
  },
  {
   "cell_type": "code",
   "execution_count": 43,
   "metadata": {},
   "outputs": [
    {
     "data": {
      "image/png": "[encoded data removed]",
      "text/plain": [
       "<Figure size 1050x600 with 6 Axes>"
      ]
     },
     "metadata": {},
     "output_type": "display_data"
    }
   ],
   "source": [
    "fig, axes = plt.subplots(6, figsize=(7, 4), dpi=150, sharex=True)\n",
    "col_low_var = ['num_portas', 'blindado', 'troca', \n",
    "               'garantia_de_fábrica', 'revisoes_dentro_agenda', 'tracao_4x4']\n",
    "\n",
    "for i, col in enumerate(col_low_var):\n",
    "    sns.countplot(data=df_train, y=col, ax=axes[i])\n",
    "    axes[i].set_ylabel(col, rotation = 0, ha='right')\n",
    "    if i != len(col_low_var)-1:\n",
    "        axes[i].set_xlabel('', rotation = 0)\n",
    "\n",
    "fig.tight_layout()\n",
    "plt.suptitle('Distribuição das features', va='bottom');\n"
   ]
  },
  {
   "attachments": {},
   "cell_type": "markdown",
   "metadata": {},
   "source": [
    "Como os gráficos mostram as features selecionadas para remoção apresentam grande concentração em apenas um único valor. E isso no conjunto de dados de treino que têm a maior quantidade de exemplares. Como a grande maioria pertence a apenas uma classe então não oferecem informação relevante para se diferenciar o preço dos veículos em um modelo de machine learning."
   ]
  },
  {
   "attachments": {},
   "cell_type": "markdown",
   "metadata": {},
   "source": [
    "Remoção das features de pouca variabilidade."
   ]
  },
  {
   "cell_type": "code",
   "execution_count": 44,
   "metadata": {},
   "outputs": [],
   "source": [
    "x_train.drop(columns=col_low_var, inplace=True)\n",
    "x_test.drop(columns=col_low_var, inplace=True)"
   ]
  },
  {
   "attachments": {},
   "cell_type": "markdown",
   "metadata": {},
   "source": [
    "### Seleção de features baseado em importância preditiva"
   ]
  },
  {
   "attachments": {},
   "cell_type": "markdown",
   "metadata": {},
   "source": [
    "Para selecionar as features de acordo com a importância preditiva será preciso construir antes um modelo preditivo.\n",
    "\n",
    "O modelo escolhido é o Random Forest Regressor do Scikit-Learn. Este modelo fornece um método `feature_importances` que avalia a importância das features para a solução do problema.\n",
    "\n",
    "Alguns preprocessamentos também foram aplicados nos dados:\n",
    "\n",
    "* variáveis categóricas: Foi aplicado o OneHotEncoder que separa as categorias de uma determinada feature em diferentes colunas. Cada nova coluna criada têm valores zero ou um, indicando se a feature pertence ou não a categoria da coluna.\n",
    "* variáveis numéricas: Foi aplicado o MinMaxScaler que faz com que os valores da feature variem apenas entre 0 e 1.\n",
    "\n"
   ]
  },
  {
   "cell_type": "code",
   "execution_count": 45,
   "metadata": {},
   "outputs": [
    {
     "data": {
      "text/html": [
       "<style>#sk-container-id-1 {color: black;background-color: white;}#sk-container-id-1 pre{padding: 0;}#sk-container-id-1 div.sk-toggleable {background-color: white;}#sk-container-id-1 label.sk-toggleable__label {cursor: pointer;display: block;width: 100%;margin-bottom: 0;padding: 0.3em;box-sizing: border-box;text-align: center;}#sk-container-id-1 label.sk-toggleable__label-arrow:before {content: \"▸\";float: left;margin-right: 0.25em;color: #696969;}#sk-container-id-1 label.sk-toggleable__label-arrow:hover:before {color: black;}#sk-container-id-1 div.sk-estimator:hover label.sk-toggleable__label-arrow:before {color: black;}#sk-container-id-1 div.sk-toggleable__content {max-height: 0;max-width: 0;overflow: hidden;text-align: left;background-color: #f0f8ff;}#sk-container-id-1 div.sk-toggleable__content pre {margin: 0.2em;color: black;border-radius: 0.25em;background-color: #f0f8ff;}#sk-container-id-1 input.sk-toggleable__control:checked~div.sk-toggleable__content {max-height: 200px;max-width: 100%;overflow: auto;}#sk-container-id-1 input.sk-toggleable__control:checked~label.sk-toggleable__label-arrow:before {content: \"▾\";}#sk-container-id-1 div.sk-estimator input.sk-toggleable__control:checked~label.sk-toggleable__label {background-color: #d4ebff;}#sk-container-id-1 div.sk-label input.sk-toggleable__control:checked~label.sk-toggleable__label {background-color: #d4ebff;}#sk-container-id-1 input.sk-hidden--visually {border: 0;clip: rect(1px 1px 1px 1px);clip: rect(1px, 1px, 1px, 1px);height: 1px;margin: -1px;overflow: hidden;padding: 0;position: absolute;width: 1px;}#sk-container-id-1 div.sk-estimator {font-family: monospace;background-color: #f0f8ff;border: 1px dotted black;border-radius: 0.25em;box-sizing: border-box;margin-bottom: 0.5em;}#sk-container-id-1 div.sk-estimator:hover {background-color: #d4ebff;}#sk-container-id-1 div.sk-parallel-item::after {content: \"\";width: 100%;border-bottom: 1px solid gray;flex-grow: 1;}#sk-container-id-1 div.sk-label:hover label.sk-toggleable__label {background-color: #d4ebff;}#sk-container-id-1 div.sk-serial::before {content: \"\";position: absolute;border-left: 1px solid gray;box-sizing: border-box;top: 0;bottom: 0;left: 50%;z-index: 0;}#sk-container-id-1 div.sk-serial {display: flex;flex-direction: column;align-items: center;background-color: white;padding-right: 0.2em;padding-left: 0.2em;position: relative;}#sk-container-id-1 div.sk-item {position: relative;z-index: 1;}#sk-container-id-1 div.sk-parallel {display: flex;align-items: stretch;justify-content: center;background-color: white;position: relative;}#sk-container-id-1 div.sk-item::before, #sk-container-id-1 div.sk-parallel-item::before {content: \"\";position: absolute;border-left: 1px solid gray;box-sizing: border-box;top: 0;bottom: 0;left: 50%;z-index: -1;}#sk-container-id-1 div.sk-parallel-item {display: flex;flex-direction: column;z-index: 1;position: relative;background-color: white;}#sk-container-id-1 div.sk-parallel-item:first-child::after {align-self: flex-end;width: 50%;}#sk-container-id-1 div.sk-parallel-item:last-child::after {align-self: flex-start;width: 50%;}#sk-container-id-1 div.sk-parallel-item:only-child::after {width: 0;}#sk-container-id-1 div.sk-dashed-wrapped {border: 1px dashed gray;margin: 0 0.4em 0.5em 0.4em;box-sizing: border-box;padding-bottom: 0.4em;background-color: white;}#sk-container-id-1 div.sk-label label {font-family: monospace;font-weight: bold;display: inline-block;line-height: 1.2em;}#sk-container-id-1 div.sk-label-container {text-align: center;}#sk-container-id-1 div.sk-container {/* jupyter's `normalize.less` sets `[hidden] { display: none; }` but bootstrap.min.css set `[hidden] { display: none !important; }` so we also need the `!important` here to be able to override the default hidden behavior on the sphinx rendered scikit-learn.org. See: https://github.com/scikit-learn/scikit-learn/issues/21755 */display: inline-block !important;position: relative;}#sk-container-id-1 div.sk-text-repr-fallback {display: none;}</style><div id=\"sk-container-id-1\" class=\"sk-top-container\"><div class=\"sk-text-repr-fallback\"><pre>Pipeline(steps=[(&#x27;preprocessor&#x27;,\n",
       "                 ColumnTransformer(transformers=[(&#x27;cat&#x27;,\n",
       "                                                  Pipeline(steps=[(&#x27;encoder&#x27;,\n",
       "                                                                   OneHotEncoder(handle_unknown=&#x27;ignore&#x27;))]),\n",
       "                                                  [&#x27;marca&#x27;, &#x27;cambio&#x27;, &#x27;tipo&#x27;,\n",
       "                                                   &#x27;cor&#x27;, &#x27;tipo_vendedor&#x27;,\n",
       "                                                   &#x27;estado_vendedor&#x27;,\n",
       "                                                   &#x27;anunciante&#x27;, &#x27;motor&#x27;,\n",
       "                                                   &#x27;combustivel&#x27;]),\n",
       "                                                 (&#x27;num&#x27;,\n",
       "                                                  Pipeline(steps=[(&#x27;scaler&#x27;,\n",
       "                                                                   MinMaxScaler())]),\n",
       "                                                  [&#x27;hodometro&#x27;, &#x27;idade&#x27;,\n",
       "                                                   &#x27;dono_aceita_troca&#x27;,\n",
       "                                                   &#x27;entrega_delivery&#x27;,\n",
       "                                                   &#x27;veiculo_único_dono&#x27;,\n",
       "                                                   &#x27;revisoes_concessionaria&#x27;,\n",
       "                                                   &#x27;ipva_pago&#x27;,\n",
       "                                                   &#x27;veiculo_licenciado&#x27;])])),\n",
       "                (&#x27;regressor&#x27;, RandomForestRegressor(random_state=101))])</pre><b>In a Jupyter environment, please rerun this cell to show the HTML representation or trust the notebook. <br />On GitHub, the HTML representation is unable to render, please try loading this page with nbviewer.org.</b></div><div class=\"sk-container\" hidden><div class=\"sk-item sk-dashed-wrapped\"><div class=\"sk-label-container\"><div class=\"sk-label sk-toggleable\"><input class=\"sk-toggleable__control sk-hidden--visually\" id=\"sk-estimator-id-1\" type=\"checkbox\" ><label for=\"sk-estimator-id-1\" class=\"sk-toggleable__label sk-toggleable__label-arrow\">Pipeline</label><div class=\"sk-toggleable__content\"><pre>Pipeline(steps=[(&#x27;preprocessor&#x27;,\n",
       "                 ColumnTransformer(transformers=[(&#x27;cat&#x27;,\n",
       "                                                  Pipeline(steps=[(&#x27;encoder&#x27;,\n",
       "                                                                   OneHotEncoder(handle_unknown=&#x27;ignore&#x27;))]),\n",
       "                                                  [&#x27;marca&#x27;, &#x27;cambio&#x27;, &#x27;tipo&#x27;,\n",
       "                                                   &#x27;cor&#x27;, &#x27;tipo_vendedor&#x27;,\n",
       "                                                   &#x27;estado_vendedor&#x27;,\n",
       "                                                   &#x27;anunciante&#x27;, &#x27;motor&#x27;,\n",
       "                                                   &#x27;combustivel&#x27;]),\n",
       "                                                 (&#x27;num&#x27;,\n",
       "                                                  Pipeline(steps=[(&#x27;scaler&#x27;,\n",
       "                                                                   MinMaxScaler())]),\n",
       "                                                  [&#x27;hodometro&#x27;, &#x27;idade&#x27;,\n",
       "                                                   &#x27;dono_aceita_troca&#x27;,\n",
       "                                                   &#x27;entrega_delivery&#x27;,\n",
       "                                                   &#x27;veiculo_único_dono&#x27;,\n",
       "                                                   &#x27;revisoes_concessionaria&#x27;,\n",
       "                                                   &#x27;ipva_pago&#x27;,\n",
       "                                                   &#x27;veiculo_licenciado&#x27;])])),\n",
       "                (&#x27;regressor&#x27;, RandomForestRegressor(random_state=101))])</pre></div></div></div><div class=\"sk-serial\"><div class=\"sk-item sk-dashed-wrapped\"><div class=\"sk-label-container\"><div class=\"sk-label sk-toggleable\"><input class=\"sk-toggleable__control sk-hidden--visually\" id=\"sk-estimator-id-2\" type=\"checkbox\" ><label for=\"sk-estimator-id-2\" class=\"sk-toggleable__label sk-toggleable__label-arrow\">preprocessor: ColumnTransformer</label><div class=\"sk-toggleable__content\"><pre>ColumnTransformer(transformers=[(&#x27;cat&#x27;,\n",
       "                                 Pipeline(steps=[(&#x27;encoder&#x27;,\n",
       "                                                  OneHotEncoder(handle_unknown=&#x27;ignore&#x27;))]),\n",
       "                                 [&#x27;marca&#x27;, &#x27;cambio&#x27;, &#x27;tipo&#x27;, &#x27;cor&#x27;,\n",
       "                                  &#x27;tipo_vendedor&#x27;, &#x27;estado_vendedor&#x27;,\n",
       "                                  &#x27;anunciante&#x27;, &#x27;motor&#x27;, &#x27;combustivel&#x27;]),\n",
       "                                (&#x27;num&#x27;,\n",
       "                                 Pipeline(steps=[(&#x27;scaler&#x27;, MinMaxScaler())]),\n",
       "                                 [&#x27;hodometro&#x27;, &#x27;idade&#x27;, &#x27;dono_aceita_troca&#x27;,\n",
       "                                  &#x27;entrega_delivery&#x27;, &#x27;veiculo_único_dono&#x27;,\n",
       "                                  &#x27;revisoes_concessionaria&#x27;, &#x27;ipva_pago&#x27;,\n",
       "                                  &#x27;veiculo_licenciado&#x27;])])</pre></div></div></div><div class=\"sk-parallel\"><div class=\"sk-parallel-item\"><div class=\"sk-item\"><div class=\"sk-label-container\"><div class=\"sk-label sk-toggleable\"><input class=\"sk-toggleable__control sk-hidden--visually\" id=\"sk-estimator-id-3\" type=\"checkbox\" ><label for=\"sk-estimator-id-3\" class=\"sk-toggleable__label sk-toggleable__label-arrow\">cat</label><div class=\"sk-toggleable__content\"><pre>[&#x27;marca&#x27;, &#x27;cambio&#x27;, &#x27;tipo&#x27;, &#x27;cor&#x27;, &#x27;tipo_vendedor&#x27;, &#x27;estado_vendedor&#x27;, &#x27;anunciante&#x27;, &#x27;motor&#x27;, &#x27;combustivel&#x27;]</pre></div></div></div><div class=\"sk-serial\"><div class=\"sk-item\"><div class=\"sk-serial\"><div class=\"sk-item\"><div class=\"sk-estimator sk-toggleable\"><input class=\"sk-toggleable__control sk-hidden--visually\" id=\"sk-estimator-id-4\" type=\"checkbox\" ><label for=\"sk-estimator-id-4\" class=\"sk-toggleable__label sk-toggleable__label-arrow\">OneHotEncoder</label><div class=\"sk-toggleable__content\"><pre>OneHotEncoder(handle_unknown=&#x27;ignore&#x27;)</pre></div></div></div></div></div></div></div></div><div class=\"sk-parallel-item\"><div class=\"sk-item\"><div class=\"sk-label-container\"><div class=\"sk-label sk-toggleable\"><input class=\"sk-toggleable__control sk-hidden--visually\" id=\"sk-estimator-id-5\" type=\"checkbox\" ><label for=\"sk-estimator-id-5\" class=\"sk-toggleable__label sk-toggleable__label-arrow\">num</label><div class=\"sk-toggleable__content\"><pre>[&#x27;hodometro&#x27;, &#x27;idade&#x27;, &#x27;dono_aceita_troca&#x27;, &#x27;entrega_delivery&#x27;, &#x27;veiculo_único_dono&#x27;, &#x27;revisoes_concessionaria&#x27;, &#x27;ipva_pago&#x27;, &#x27;veiculo_licenciado&#x27;]</pre></div></div></div><div class=\"sk-serial\"><div class=\"sk-item\"><div class=\"sk-serial\"><div class=\"sk-item\"><div class=\"sk-estimator sk-toggleable\"><input class=\"sk-toggleable__control sk-hidden--visually\" id=\"sk-estimator-id-6\" type=\"checkbox\" ><label for=\"sk-estimator-id-6\" class=\"sk-toggleable__label sk-toggleable__label-arrow\">MinMaxScaler</label><div class=\"sk-toggleable__content\"><pre>MinMaxScaler()</pre></div></div></div></div></div></div></div></div></div></div><div class=\"sk-item\"><div class=\"sk-estimator sk-toggleable\"><input class=\"sk-toggleable__control sk-hidden--visually\" id=\"sk-estimator-id-7\" type=\"checkbox\" ><label for=\"sk-estimator-id-7\" class=\"sk-toggleable__label sk-toggleable__label-arrow\">RandomForestRegressor</label><div class=\"sk-toggleable__content\"><pre>RandomForestRegressor(random_state=101)</pre></div></div></div></div></div></div></div>"
      ],
      "text/plain": [
       "Pipeline(steps=[('preprocessor',\n",
       "                 ColumnTransformer(transformers=[('cat',\n",
       "                                                  Pipeline(steps=[('encoder',\n",
       "                                                                   OneHotEncoder(handle_unknown='ignore'))]),\n",
       "                                                  ['marca', 'cambio', 'tipo',\n",
       "                                                   'cor', 'tipo_vendedor',\n",
       "                                                   'estado_vendedor',\n",
       "                                                   'anunciante', 'motor',\n",
       "                                                   'combustivel']),\n",
       "                                                 ('num',\n",
       "                                                  Pipeline(steps=[('scaler',\n",
       "                                                                   MinMaxScaler())]),\n",
       "                                                  ['hodometro', 'idade',\n",
       "                                                   'dono_aceita_troca',\n",
       "                                                   'entrega_delivery',\n",
       "                                                   'veiculo_único_dono',\n",
       "                                                   'revisoes_concessionaria',\n",
       "                                                   'ipva_pago',\n",
       "                                                   'veiculo_licenciado'])])),\n",
       "                ('regressor', RandomForestRegressor(random_state=101))])"
      ]
     },
     "execution_count": 45,
     "metadata": {},
     "output_type": "execute_result"
    }
   ],
   "source": [
    "from sklearn.ensemble      import RandomForestRegressor # Regressor\n",
    "from sklearn.preprocessing import OneHotEncoder         # Encoder das variáveis categóricas\n",
    "from sklearn.preprocessing import MinMaxScaler          # Scaler das variáveis numéricas\n",
    "from sklearn.pipeline      import Pipeline              # Constrói pipeline de dados\n",
    "from sklearn.compose       import ColumnTransformer     # Utilizado para aplicar os transformers em colunas específicas\n",
    "\n",
    "# Pré processamento das variáveis categóricas\n",
    "categorical_features = ['marca', 'cambio', 'tipo', 'cor', \n",
    "                        'tipo_vendedor', 'estado_vendedor',\n",
    "                        'anunciante', 'motor', 'combustivel']\n",
    "categorical_transformer = Pipeline(\n",
    "    steps=[(\"encoder\", OneHotEncoder(handle_unknown=\"ignore\"))]\n",
    ")\n",
    "\n",
    "# Pré processamento das variáveis numéricas\n",
    "numerical_features = ['hodometro', 'idade', 'dono_aceita_troca',\n",
    "                      'entrega_delivery', 'veiculo_único_dono',\n",
    "                      'revisoes_concessionaria', 'ipva_pago',\n",
    "                      'veiculo_licenciado']\n",
    "numerical_transformer = Pipeline(\n",
    "    steps=[(\"scaler\", MinMaxScaler())]\n",
    ")\n",
    "\n",
    "# Combinação dos dois pré-processamentos\n",
    "preprocessor = ColumnTransformer(\n",
    "    transformers=[\n",
    "        (\"cat\", categorical_transformer, categorical_features),\n",
    "        (\"num\", numerical_transformer, numerical_features)\n",
    "    ]\n",
    ")\n",
    "\n",
    "# Pipeline do modelo de regressão\n",
    "clf = Pipeline(\n",
    "    steps=[\n",
    "        (\"preprocessor\", preprocessor),\n",
    "        (\"regressor\", RandomForestRegressor(random_state=101))\n",
    "    ]\n",
    ")\n",
    "\n",
    "# Treinamento do modelo de regressão\n",
    "clf.fit(x_train, y_train)"
   ]
  },
  {
   "attachments": {},
   "cell_type": "markdown",
   "metadata": {},
   "source": [
    "Após o treinamento do modelo pode-se verificar quais as features de maior importância, segundo o modelo escolhido, para a definição do preço do veículo.\n",
    "\n",
    "A importância das features é calculada pela a média e o desvio padrão acumulados da diminuição de impurezas dentro de cada árvore. A impureza é uma medida de homogeinedade nos nós da árvore. A impureza de um nó da árvore dé calculada usando a contagem de cada categoria de destino em todos os registros correspondentes ao nó especificado. O total de impurezas de Gini é calculado como uma soma de quadrados de proporções de contagem entre todas as categorias de destino por nó subtraído de um, e o resultado é multiplicado pelo número de registros. Assim, quanto melhor a impureza em uma árvore melhor seria a regressão da mesma.\n",
    "\n",
    "A seguir são recuperados o nome das features pois o enconder gera novas colunas no dataset."
   ]
  },
  {
   "cell_type": "code",
   "execution_count": 46,
   "metadata": {},
   "outputs": [],
   "source": [
    "# Nome das features categoricas após aplicar o encoder\n",
    "cat_features_names = clf.named_steps['preprocessor']\\\n",
    "                        .named_transformers_['cat'][0]\\\n",
    "                        .get_feature_names_out()\n",
    "\n",
    "# Nome das features numéricas após aplicar o scaler\n",
    "num_features_names = clf.named_steps['preprocessor']\\\n",
    "                        .named_transformers_['num'][0]\\\n",
    "                        .get_feature_names_out()"
   ]
  },
  {
   "attachments": {},
   "cell_type": "markdown",
   "metadata": {},
   "source": [
    "A seguir é calculada a importância de cada feature."
   ]
  },
  {
   "cell_type": "code",
   "execution_count": 47,
   "metadata": {},
   "outputs": [],
   "source": [
    "importances = pd.DataFrame(clf.named_steps['regressor'].feature_importances_)\n",
    "importances.index = cat_features_names.tolist() + num_features_names.tolist()\n",
    "importances.columns = ['importance']"
   ]
  },
  {
   "attachments": {},
   "cell_type": "markdown",
   "metadata": {},
   "source": [
    "Na célula a seguir são listadas as 15 principais features."
   ]
  },
  {
   "cell_type": "code",
   "execution_count": 48,
   "metadata": {},
   "outputs": [
    {
     "data": {
      "text/html": [
       "<div>\n",
       "<style scoped>\n",
       "    .dataframe tbody tr th:only-of-type {\n",
       "        vertical-align: middle;\n",
       "    }\n",
       "\n",
       "    .dataframe tbody tr th {\n",
       "        vertical-align: top;\n",
       "    }\n",
       "\n",
       "    .dataframe thead th {\n",
       "        text-align: right;\n",
       "    }\n",
       "</style>\n",
       "<table border=\"1\" class=\"dataframe\">\n",
       "  <thead>\n",
       "    <tr style=\"text-align: right;\">\n",
       "      <th></th>\n",
       "      <th>importance</th>\n",
       "    </tr>\n",
       "  </thead>\n",
       "  <tbody>\n",
       "    <tr>\n",
       "      <th>idade</th>\n",
       "      <td>0.208551</td>\n",
       "    </tr>\n",
       "    <tr>\n",
       "      <th>combustivel_flex</th>\n",
       "      <td>0.171409</td>\n",
       "    </tr>\n",
       "    <tr>\n",
       "      <th>hodometro</th>\n",
       "      <td>0.154301</td>\n",
       "    </tr>\n",
       "    <tr>\n",
       "      <th>motor_1.0</th>\n",
       "      <td>0.062386</td>\n",
       "    </tr>\n",
       "    <tr>\n",
       "      <th>cambio_Automático</th>\n",
       "      <td>0.039032</td>\n",
       "    </tr>\n",
       "    <tr>\n",
       "      <th>cambio_Manual</th>\n",
       "      <td>0.033055</td>\n",
       "    </tr>\n",
       "    <tr>\n",
       "      <th>marca_BMW</th>\n",
       "      <td>0.025597</td>\n",
       "    </tr>\n",
       "    <tr>\n",
       "      <th>tipo_Utilitário esportivo</th>\n",
       "      <td>0.021622</td>\n",
       "    </tr>\n",
       "    <tr>\n",
       "      <th>dono_aceita_troca</th>\n",
       "      <td>0.014340</td>\n",
       "    </tr>\n",
       "    <tr>\n",
       "      <th>cor_Branco</th>\n",
       "      <td>0.013820</td>\n",
       "    </tr>\n",
       "    <tr>\n",
       "      <th>tipo_Sedã</th>\n",
       "      <td>0.009805</td>\n",
       "    </tr>\n",
       "    <tr>\n",
       "      <th>motor_1.4</th>\n",
       "      <td>0.009794</td>\n",
       "    </tr>\n",
       "    <tr>\n",
       "      <th>motor_2.0</th>\n",
       "      <td>0.009712</td>\n",
       "    </tr>\n",
       "    <tr>\n",
       "      <th>cor_Prata</th>\n",
       "      <td>0.009132</td>\n",
       "    </tr>\n",
       "    <tr>\n",
       "      <th>tipo_Hatchback</th>\n",
       "      <td>0.008657</td>\n",
       "    </tr>\n",
       "  </tbody>\n",
       "</table>\n",
       "</div>"
      ],
      "text/plain": [
       "                           importance\n",
       "idade                        0.208551\n",
       "combustivel_flex             0.171409\n",
       "hodometro                    0.154301\n",
       "motor_1.0                    0.062386\n",
       "cambio_Automático            0.039032\n",
       "cambio_Manual                0.033055\n",
       "marca_BMW                    0.025597\n",
       "tipo_Utilitário esportivo    0.021622\n",
       "dono_aceita_troca            0.014340\n",
       "cor_Branco                   0.013820\n",
       "tipo_Sedã                    0.009805\n",
       "motor_1.4                    0.009794\n",
       "motor_2.0                    0.009712\n",
       "cor_Prata                    0.009132\n",
       "tipo_Hatchback               0.008657"
      ]
     },
     "execution_count": 48,
     "metadata": {},
     "output_type": "execute_result"
    }
   ],
   "source": [
    "importances.sort_values(by='importance', ascending=False).head(15)"
   ]
  },
  {
   "attachments": {},
   "cell_type": "markdown",
   "metadata": {},
   "source": [
    "Consirando as features listadas. A seleção das principais features do dataset original são listadas a seguir."
   ]
  },
  {
   "cell_type": "code",
   "execution_count": 49,
   "metadata": {},
   "outputs": [],
   "source": [
    "mainly_features = ['idade', 'hodometro', 'combustivel', 'motor',\n",
    "                   'cambio', 'marca', 'tipo', 'cor', 'dono_aceita_troca']"
   ]
  },
  {
   "attachments": {},
   "cell_type": "markdown",
   "metadata": {},
   "source": [
    "Seleção das principais features."
   ]
  },
  {
   "cell_type": "code",
   "execution_count": 50,
   "metadata": {},
   "outputs": [],
   "source": [
    "x_train_selected = x_train[mainly_features]\n",
    "x_test_selected = x_test[mainly_features]"
   ]
  },
  {
   "attachments": {},
   "cell_type": "markdown",
   "metadata": {},
   "source": [
    "A seguir é feito o processo para treinar um novo modelo apenas com as features selecionadas. \n",
    "\n",
    "Em seguida é avaliado o impacto que a seleção causou no desempenho original do modelo."
   ]
  },
  {
   "cell_type": "code",
   "execution_count": 51,
   "metadata": {},
   "outputs": [
    {
     "data": {
      "text/html": [
       "<style>#sk-container-id-2 {color: black;background-color: white;}#sk-container-id-2 pre{padding: 0;}#sk-container-id-2 div.sk-toggleable {background-color: white;}#sk-container-id-2 label.sk-toggleable__label {cursor: pointer;display: block;width: 100%;margin-bottom: 0;padding: 0.3em;box-sizing: border-box;text-align: center;}#sk-container-id-2 label.sk-toggleable__label-arrow:before {content: \"▸\";float: left;margin-right: 0.25em;color: #696969;}#sk-container-id-2 label.sk-toggleable__label-arrow:hover:before {color: black;}#sk-container-id-2 div.sk-estimator:hover label.sk-toggleable__label-arrow:before {color: black;}#sk-container-id-2 div.sk-toggleable__content {max-height: 0;max-width: 0;overflow: hidden;text-align: left;background-color: #f0f8ff;}#sk-container-id-2 div.sk-toggleable__content pre {margin: 0.2em;color: black;border-radius: 0.25em;background-color: #f0f8ff;}#sk-container-id-2 input.sk-toggleable__control:checked~div.sk-toggleable__content {max-height: 200px;max-width: 100%;overflow: auto;}#sk-container-id-2 input.sk-toggleable__control:checked~label.sk-toggleable__label-arrow:before {content: \"▾\";}#sk-container-id-2 div.sk-estimator input.sk-toggleable__control:checked~label.sk-toggleable__label {background-color: #d4ebff;}#sk-container-id-2 div.sk-label input.sk-toggleable__control:checked~label.sk-toggleable__label {background-color: #d4ebff;}#sk-container-id-2 input.sk-hidden--visually {border: 0;clip: rect(1px 1px 1px 1px);clip: rect(1px, 1px, 1px, 1px);height: 1px;margin: -1px;overflow: hidden;padding: 0;position: absolute;width: 1px;}#sk-container-id-2 div.sk-estimator {font-family: monospace;background-color: #f0f8ff;border: 1px dotted black;border-radius: 0.25em;box-sizing: border-box;margin-bottom: 0.5em;}#sk-container-id-2 div.sk-estimator:hover {background-color: #d4ebff;}#sk-container-id-2 div.sk-parallel-item::after {content: \"\";width: 100%;border-bottom: 1px solid gray;flex-grow: 1;}#sk-container-id-2 div.sk-label:hover label.sk-toggleable__label {background-color: #d4ebff;}#sk-container-id-2 div.sk-serial::before {content: \"\";position: absolute;border-left: 1px solid gray;box-sizing: border-box;top: 0;bottom: 0;left: 50%;z-index: 0;}#sk-container-id-2 div.sk-serial {display: flex;flex-direction: column;align-items: center;background-color: white;padding-right: 0.2em;padding-left: 0.2em;position: relative;}#sk-container-id-2 div.sk-item {position: relative;z-index: 1;}#sk-container-id-2 div.sk-parallel {display: flex;align-items: stretch;justify-content: center;background-color: white;position: relative;}#sk-container-id-2 div.sk-item::before, #sk-container-id-2 div.sk-parallel-item::before {content: \"\";position: absolute;border-left: 1px solid gray;box-sizing: border-box;top: 0;bottom: 0;left: 50%;z-index: -1;}#sk-container-id-2 div.sk-parallel-item {display: flex;flex-direction: column;z-index: 1;position: relative;background-color: white;}#sk-container-id-2 div.sk-parallel-item:first-child::after {align-self: flex-end;width: 50%;}#sk-container-id-2 div.sk-parallel-item:last-child::after {align-self: flex-start;width: 50%;}#sk-container-id-2 div.sk-parallel-item:only-child::after {width: 0;}#sk-container-id-2 div.sk-dashed-wrapped {border: 1px dashed gray;margin: 0 0.4em 0.5em 0.4em;box-sizing: border-box;padding-bottom: 0.4em;background-color: white;}#sk-container-id-2 div.sk-label label {font-family: monospace;font-weight: bold;display: inline-block;line-height: 1.2em;}#sk-container-id-2 div.sk-label-container {text-align: center;}#sk-container-id-2 div.sk-container {/* jupyter's `normalize.less` sets `[hidden] { display: none; }` but bootstrap.min.css set `[hidden] { display: none !important; }` so we also need the `!important` here to be able to override the default hidden behavior on the sphinx rendered scikit-learn.org. See: https://github.com/scikit-learn/scikit-learn/issues/21755 */display: inline-block !important;position: relative;}#sk-container-id-2 div.sk-text-repr-fallback {display: none;}</style><div id=\"sk-container-id-2\" class=\"sk-top-container\"><div class=\"sk-text-repr-fallback\"><pre>Pipeline(steps=[(&#x27;preprocessor&#x27;,\n",
       "                 ColumnTransformer(transformers=[(&#x27;cat&#x27;,\n",
       "                                                  Pipeline(steps=[(&#x27;encoder&#x27;,\n",
       "                                                                   OneHotEncoder(handle_unknown=&#x27;ignore&#x27;))]),\n",
       "                                                  [&#x27;combustivel&#x27;, &#x27;motor&#x27;,\n",
       "                                                   &#x27;cambio&#x27;, &#x27;marca&#x27;, &#x27;tipo&#x27;,\n",
       "                                                   &#x27;cor&#x27;]),\n",
       "                                                 (&#x27;num&#x27;,\n",
       "                                                  Pipeline(steps=[(&#x27;scaler&#x27;,\n",
       "                                                                   MinMaxScaler())]),\n",
       "                                                  [&#x27;idade&#x27;, &#x27;hodometro&#x27;,\n",
       "                                                   &#x27;dono_aceita_troca&#x27;])])),\n",
       "                (&#x27;regressor&#x27;, RandomForestRegressor(random_state=101))])</pre><b>In a Jupyter environment, please rerun this cell to show the HTML representation or trust the notebook. <br />On GitHub, the HTML representation is unable to render, please try loading this page with nbviewer.org.</b></div><div class=\"sk-container\" hidden><div class=\"sk-item sk-dashed-wrapped\"><div class=\"sk-label-container\"><div class=\"sk-label sk-toggleable\"><input class=\"sk-toggleable__control sk-hidden--visually\" id=\"sk-estimator-id-8\" type=\"checkbox\" ><label for=\"sk-estimator-id-8\" class=\"sk-toggleable__label sk-toggleable__label-arrow\">Pipeline</label><div class=\"sk-toggleable__content\"><pre>Pipeline(steps=[(&#x27;preprocessor&#x27;,\n",
       "                 ColumnTransformer(transformers=[(&#x27;cat&#x27;,\n",
       "                                                  Pipeline(steps=[(&#x27;encoder&#x27;,\n",
       "                                                                   OneHotEncoder(handle_unknown=&#x27;ignore&#x27;))]),\n",
       "                                                  [&#x27;combustivel&#x27;, &#x27;motor&#x27;,\n",
       "                                                   &#x27;cambio&#x27;, &#x27;marca&#x27;, &#x27;tipo&#x27;,\n",
       "                                                   &#x27;cor&#x27;]),\n",
       "                                                 (&#x27;num&#x27;,\n",
       "                                                  Pipeline(steps=[(&#x27;scaler&#x27;,\n",
       "                                                                   MinMaxScaler())]),\n",
       "                                                  [&#x27;idade&#x27;, &#x27;hodometro&#x27;,\n",
       "                                                   &#x27;dono_aceita_troca&#x27;])])),\n",
       "                (&#x27;regressor&#x27;, RandomForestRegressor(random_state=101))])</pre></div></div></div><div class=\"sk-serial\"><div class=\"sk-item sk-dashed-wrapped\"><div class=\"sk-label-container\"><div class=\"sk-label sk-toggleable\"><input class=\"sk-toggleable__control sk-hidden--visually\" id=\"sk-estimator-id-9\" type=\"checkbox\" ><label for=\"sk-estimator-id-9\" class=\"sk-toggleable__label sk-toggleable__label-arrow\">preprocessor: ColumnTransformer</label><div class=\"sk-toggleable__content\"><pre>ColumnTransformer(transformers=[(&#x27;cat&#x27;,\n",
       "                                 Pipeline(steps=[(&#x27;encoder&#x27;,\n",
       "                                                  OneHotEncoder(handle_unknown=&#x27;ignore&#x27;))]),\n",
       "                                 [&#x27;combustivel&#x27;, &#x27;motor&#x27;, &#x27;cambio&#x27;, &#x27;marca&#x27;,\n",
       "                                  &#x27;tipo&#x27;, &#x27;cor&#x27;]),\n",
       "                                (&#x27;num&#x27;,\n",
       "                                 Pipeline(steps=[(&#x27;scaler&#x27;, MinMaxScaler())]),\n",
       "                                 [&#x27;idade&#x27;, &#x27;hodometro&#x27;, &#x27;dono_aceita_troca&#x27;])])</pre></div></div></div><div class=\"sk-parallel\"><div class=\"sk-parallel-item\"><div class=\"sk-item\"><div class=\"sk-label-container\"><div class=\"sk-label sk-toggleable\"><input class=\"sk-toggleable__control sk-hidden--visually\" id=\"sk-estimator-id-10\" type=\"checkbox\" ><label for=\"sk-estimator-id-10\" class=\"sk-toggleable__label sk-toggleable__label-arrow\">cat</label><div class=\"sk-toggleable__content\"><pre>[&#x27;combustivel&#x27;, &#x27;motor&#x27;, &#x27;cambio&#x27;, &#x27;marca&#x27;, &#x27;tipo&#x27;, &#x27;cor&#x27;]</pre></div></div></div><div class=\"sk-serial\"><div class=\"sk-item\"><div class=\"sk-serial\"><div class=\"sk-item\"><div class=\"sk-estimator sk-toggleable\"><input class=\"sk-toggleable__control sk-hidden--visually\" id=\"sk-estimator-id-11\" type=\"checkbox\" ><label for=\"sk-estimator-id-11\" class=\"sk-toggleable__label sk-toggleable__label-arrow\">OneHotEncoder</label><div class=\"sk-toggleable__content\"><pre>OneHotEncoder(handle_unknown=&#x27;ignore&#x27;)</pre></div></div></div></div></div></div></div></div><div class=\"sk-parallel-item\"><div class=\"sk-item\"><div class=\"sk-label-container\"><div class=\"sk-label sk-toggleable\"><input class=\"sk-toggleable__control sk-hidden--visually\" id=\"sk-estimator-id-12\" type=\"checkbox\" ><label for=\"sk-estimator-id-12\" class=\"sk-toggleable__label sk-toggleable__label-arrow\">num</label><div class=\"sk-toggleable__content\"><pre>[&#x27;idade&#x27;, &#x27;hodometro&#x27;, &#x27;dono_aceita_troca&#x27;]</pre></div></div></div><div class=\"sk-serial\"><div class=\"sk-item\"><div class=\"sk-serial\"><div class=\"sk-item\"><div class=\"sk-estimator sk-toggleable\"><input class=\"sk-toggleable__control sk-hidden--visually\" id=\"sk-estimator-id-13\" type=\"checkbox\" ><label for=\"sk-estimator-id-13\" class=\"sk-toggleable__label sk-toggleable__label-arrow\">MinMaxScaler</label><div class=\"sk-toggleable__content\"><pre>MinMaxScaler()</pre></div></div></div></div></div></div></div></div></div></div><div class=\"sk-item\"><div class=\"sk-estimator sk-toggleable\"><input class=\"sk-toggleable__control sk-hidden--visually\" id=\"sk-estimator-id-14\" type=\"checkbox\" ><label for=\"sk-estimator-id-14\" class=\"sk-toggleable__label sk-toggleable__label-arrow\">RandomForestRegressor</label><div class=\"sk-toggleable__content\"><pre>RandomForestRegressor(random_state=101)</pre></div></div></div></div></div></div></div>"
      ],
      "text/plain": [
       "Pipeline(steps=[('preprocessor',\n",
       "                 ColumnTransformer(transformers=[('cat',\n",
       "                                                  Pipeline(steps=[('encoder',\n",
       "                                                                   OneHotEncoder(handle_unknown='ignore'))]),\n",
       "                                                  ['combustivel', 'motor',\n",
       "                                                   'cambio', 'marca', 'tipo',\n",
       "                                                   'cor']),\n",
       "                                                 ('num',\n",
       "                                                  Pipeline(steps=[('scaler',\n",
       "                                                                   MinMaxScaler())]),\n",
       "                                                  ['idade', 'hodometro',\n",
       "                                                   'dono_aceita_troca'])])),\n",
       "                ('regressor', RandomForestRegressor(random_state=101))])"
      ]
     },
     "execution_count": 51,
     "metadata": {},
     "output_type": "execute_result"
    }
   ],
   "source": [
    "# Pré processamento das variáveis categóricas\n",
    "categorical_features2 = ['combustivel', 'motor', 'cambio',\n",
    "                        'marca', 'tipo', 'cor']\n",
    "categorical_transformer2 = Pipeline(\n",
    "    steps=[(\"encoder\", OneHotEncoder(handle_unknown=\"ignore\"))]\n",
    ")\n",
    "\n",
    "# Pré processamento das variáveis numéricas\n",
    "numerical_features2 = ['idade', 'hodometro', 'dono_aceita_troca']\n",
    "numerical_transformer2 = Pipeline(\n",
    "    steps=[(\"scaler\", MinMaxScaler())]\n",
    ")\n",
    "\n",
    "# Combinação dos dois pré-processamentos\n",
    "preprocessor2 = ColumnTransformer(\n",
    "    transformers=[\n",
    "        (\"cat\", categorical_transformer2, categorical_features2),\n",
    "        (\"num\", numerical_transformer2, numerical_features2)\n",
    "    ]\n",
    ")\n",
    "\n",
    "# Pipeline do modelo de regressão\n",
    "clf2 = Pipeline(\n",
    "    steps=[\n",
    "        (\"preprocessor\", preprocessor2),\n",
    "        (\"regressor\", RandomForestRegressor(random_state=101))\n",
    "    ]\n",
    ")\n",
    "\n",
    "# Treinamento do novo modelo de regressão\n",
    "clf2.fit(x_train_selected, y_train)"
   ]
  },
  {
   "attachments": {},
   "cell_type": "markdown",
   "metadata": {},
   "source": [
    "Predições utilizando os dois modelos criados."
   ]
  },
  {
   "cell_type": "code",
   "execution_count": 52,
   "metadata": {},
   "outputs": [],
   "source": [
    "pred1 = clf.predict(x_test)           # Considera todas as features\n",
    "pred2 = clf2.predict(x_test_selected) # Apenas com 9 features"
   ]
  },
  {
   "attachments": {},
   "cell_type": "markdown",
   "metadata": {},
   "source": [
    "Avaliação dos modelos"
   ]
  },
  {
   "attachments": {},
   "cell_type": "markdown",
   "metadata": {},
   "source": [
    "Para avaliar os modelos serão utilizadas as seguintes métricas\n",
    "\n",
    "| Nome | Fórmula | Descrição | Características |\n",
    "| -- | -- | -- | -- |\n",
    "| MAE | $ MAE = \\frac{1}{n} \\sum_{i=1}^{n}{\\|y_i- \\hat{y}_i\\|}$ | Erro Médio Absoluto | Média aritmética dos erros em termos absolutos. Menos sensível a outliers.\n",
    "| RMSE | $ RMSE = \\sqrt{\\sum_{i=1}^{n}{\\frac{(\\hat{y}_i - y_i)^2}{n}}}$| Raiz do Erro Médio Quadrático | Mais sensível a outliers |\n",
    "| MAPE | $ MAPE = \\frac{1}{n} \\sum_{i=1}^{n}\\frac{\\|y_i - \\hat{y}_i\\|}{\\|y_i\\|} * 100$ | Erro Médio Percentual Absoluto | Mais comprensível uma vez que o erro é dado em valores percentuais.\n",
    "| R² | $ R^2 = 1 - \\frac{\\sum_{i=1}^{n}{(y_i - \\hat{y}_i)^2}}{\\sum_{i=1}^{n}{(y_i - \\bar{y})^2}}$ | Coeficiente de determinação R² | É uma estatística invariante de escala que fornece a proporção de variação na variável alvo explicada pelo modelo de regressão linear."
   ]
  },
  {
   "cell_type": "code",
   "execution_count": 53,
   "metadata": {},
   "outputs": [],
   "source": [
    "# Métricas de desempenho\n",
    "from sklearn.metrics import mean_absolute_error # MAE\n",
    "from sklearn.metrics import mean_squared_error # MSE usado para calcular o RMSE\n",
    "from sklearn.metrics import mean_absolute_percentage_error # MAPE\n",
    "from sklearn.metrics import r2_score # R²"
   ]
  },
  {
   "cell_type": "code",
   "execution_count": 54,
   "metadata": {},
   "outputs": [
    {
     "name": "stdout",
     "output_type": "stream",
     "text": [
      "MAE R$: 27945.181364417134\n",
      "RMSE R$: 45168.115865864784\n",
      "MAPE: 0.22598545217922245\n",
      "R²: 0.6935657129969484\n"
     ]
    }
   ],
   "source": [
    "print('MAE R$:', mean_absolute_error(np.exp(y_test), np.exp(pred1)))\n",
    "print('RMSE R$:', mean_squared_error(np.exp(y_test), np.exp(pred1), squared=False))\n",
    "print('MAPE:', mean_absolute_percentage_error(np.exp(y_test), np.exp(pred1)))\n",
    "print('R²:', r2_score(np.exp(y_test), np.exp(pred1)))"
   ]
  },
  {
   "cell_type": "code",
   "execution_count": 55,
   "metadata": {},
   "outputs": [
    {
     "name": "stdout",
     "output_type": "stream",
     "text": [
      "MAE R$: 29055.40291539816\n",
      "RMSE R$: 46162.744326370346\n",
      "MAPE: 0.2369955534869949\n",
      "R²: 0.6799213948502683\n"
     ]
    }
   ],
   "source": [
    "print('MAE R$:', mean_absolute_error(np.exp(y_test), np.exp(pred2)))\n",
    "print('RMSE R$:', mean_squared_error(np.exp(y_test), np.exp(pred2), squared=False))\n",
    "print('MAPE:', mean_absolute_percentage_error(np.exp(y_test), np.exp(pred2)))\n",
    "print('R²:', r2_score(np.exp(y_test), np.exp(pred2)))"
   ]
  },
  {
   "attachments": {},
   "cell_type": "markdown",
   "metadata": {},
   "source": [
    "Teste de diferença estatísticamente significante entre as duas séries de predições.\n",
    "\n",
    "Como as métricas têm pouca diferença entre si é aplicado o teste de Kolmogorov-Smirnov para verificar se há diferença signigicativa entre a distribuição dos resultados."
   ]
  },
  {
   "cell_type": "code",
   "execution_count": 56,
   "metadata": {},
   "outputs": [
    {
     "data": {
      "text/plain": [
       "KstestResult(statistic=0.008449752140603875, pvalue=0.9092949926318699)"
      ]
     },
     "execution_count": 56,
     "metadata": {},
     "output_type": "execute_result"
    }
   ],
   "source": [
    "kstest(np.exp(pred1), np.exp(pred2))"
   ]
  },
  {
   "attachments": {},
   "cell_type": "markdown",
   "metadata": {},
   "source": [
    "As métricas de desempenho mostram pequena diferença entre os dois modelos. E o p-valor do teste de Kolmorogov-Smirnov aplicado as duas séries indica que as duas séries pertencem a mesma distribuição de probabilidade. Ou seja, não diferenças significantes entre os dois modelos e pode-se utilizar o modelo com menor quantidade de features não grandes prejuízos à qualidade das previsões."
   ]
  },
  {
   "attachments": {},
   "cell_type": "markdown",
   "metadata": {},
   "source": [
    "## 3.5 Teste entre diferentes modelos de regressão"
   ]
  },
  {
   "attachments": {},
   "cell_type": "markdown",
   "metadata": {},
   "source": [
    "A seguir são testados diferentes modelos de regressão em busca do que oferece os melhores resultados."
   ]
  },
  {
   "attachments": {},
   "cell_type": "markdown",
   "metadata": {},
   "source": [
    "### Regressão Linear"
   ]
  },
  {
   "cell_type": "code",
   "execution_count": 57,
   "metadata": {},
   "outputs": [],
   "source": [
    "from sklearn.linear_model import LinearRegression\n",
    "from sklearn.metrics import r2_score\n",
    "\n",
    "# Função para treinar um modelo e retornar o valor das métricas de avaliação\n",
    "def eval_model(model, model_name, x_train, x_test, y_train, y_test):\n",
    "    reg = Pipeline(\n",
    "        steps=[\n",
    "            (\"preprocessor\", preprocessor2),\n",
    "            (\"regressor\", model)\n",
    "        ]\n",
    "    )\n",
    "\n",
    "    reg.fit(x_train, y_train)\n",
    "\n",
    "    pred = reg.predict(x_test)\n",
    "    mae =  mean_absolute_error(np.exp(y_test), np.exp(pred))\n",
    "    rmse = mean_squared_error(np.exp(y_test), np.exp(pred), squared=False)\n",
    "    mape = mean_absolute_percentage_error(np.exp(y_test), np.exp(pred))\n",
    "    r2 = r2_score(np.exp(y_test), np.exp(pred))\n",
    "    return {'model': model_name, 'mae':mae, 'rmse':rmse, 'mape':mape, 'r2':r2}\n",
    "\n",
    "results = pd.DataFrame.from_dict(eval_model(LinearRegression(),\n",
    "                                            'reg_linear',\n",
    "                                            x_train_selected, \n",
    "                                            x_test_selected,\n",
    "                                            y_train, \n",
    "                                            y_test),\n",
    "                                 orient='index').T"
   ]
  },
  {
   "attachments": {},
   "cell_type": "markdown",
   "metadata": {},
   "source": [
    "### Suport Vector Machine"
   ]
  },
  {
   "cell_type": "code",
   "execution_count": 58,
   "metadata": {},
   "outputs": [],
   "source": [
    "from sklearn.svm import SVR\n",
    "\n",
    "results_svr = pd.DataFrame.from_dict(eval_model(SVR(),\n",
    "                                                'SVR',\n",
    "                                                x_train_selected, \n",
    "                                                x_test_selected,\n",
    "                                                y_train, \n",
    "                                                y_test),\n",
    "                                    orient='index').T\n",
    "results = pd.concat([results, results_svr])"
   ]
  },
  {
   "attachments": {},
   "cell_type": "markdown",
   "metadata": {},
   "source": [
    "### Random Forest"
   ]
  },
  {
   "cell_type": "code",
   "execution_count": 59,
   "metadata": {},
   "outputs": [],
   "source": [
    "results_rfr = pd.DataFrame.from_dict(eval_model(RandomForestRegressor(random_state=101),\n",
    "                                                'RFR',\n",
    "                                                x_train_selected, \n",
    "                                                x_test_selected,\n",
    "                                                y_train, \n",
    "                                                y_test),\n",
    "                                    orient='index').T\n",
    "results = pd.concat([results, results_rfr])"
   ]
  },
  {
   "attachments": {},
   "cell_type": "markdown",
   "metadata": {},
   "source": [
    "### XGBoost Regressor"
   ]
  },
  {
   "cell_type": "code",
   "execution_count": 60,
   "metadata": {},
   "outputs": [],
   "source": [
    "from xgboost.sklearn import XGBRegressor\n",
    "\n",
    "results_xgbr = pd.DataFrame.from_dict(eval_model(XGBRegressor(random_state=101),\n",
    "                                                'XGBR',\n",
    "                                                x_train_selected, \n",
    "                                                x_test_selected,\n",
    "                                                y_train, \n",
    "                                                y_test),\n",
    "                                    orient='index').T\n",
    "results = pd.concat([results, results_xgbr])"
   ]
  },
  {
   "attachments": {},
   "cell_type": "markdown",
   "metadata": {},
   "source": [
    "### ElasticNet"
   ]
  },
  {
   "cell_type": "code",
   "execution_count": 61,
   "metadata": {},
   "outputs": [],
   "source": [
    "from sklearn.linear_model import ElasticNet\n",
    "\n",
    "results_enr = pd.DataFrame.from_dict(eval_model(ElasticNet(random_state=101),\n",
    "                                                'ENR',\n",
    "                                                x_train_selected, \n",
    "                                                x_test_selected,\n",
    "                                                y_train, \n",
    "                                                y_test),\n",
    "                                    orient='index').T\n",
    "results = pd.concat([results, results_enr])"
   ]
  },
  {
   "attachments": {},
   "cell_type": "markdown",
   "metadata": {},
   "source": [
    "#### Resultados"
   ]
  },
  {
   "cell_type": "code",
   "execution_count": 62,
   "metadata": {},
   "outputs": [
    {
     "data": {
      "text/html": [
       "<div>\n",
       "<style scoped>\n",
       "    .dataframe tbody tr th:only-of-type {\n",
       "        vertical-align: middle;\n",
       "    }\n",
       "\n",
       "    .dataframe tbody tr th {\n",
       "        vertical-align: top;\n",
       "    }\n",
       "\n",
       "    .dataframe thead th {\n",
       "        text-align: right;\n",
       "    }\n",
       "</style>\n",
       "<table border=\"1\" class=\"dataframe\">\n",
       "  <thead>\n",
       "    <tr style=\"text-align: right;\">\n",
       "      <th></th>\n",
       "      <th>model</th>\n",
       "      <th>mae</th>\n",
       "      <th>rmse</th>\n",
       "      <th>mape</th>\n",
       "      <th>r2</th>\n",
       "    </tr>\n",
       "  </thead>\n",
       "  <tbody>\n",
       "    <tr>\n",
       "      <th>0</th>\n",
       "      <td>reg_linear</td>\n",
       "      <td>31704.797791</td>\n",
       "      <td>49163.54146</td>\n",
       "      <td>0.263146</td>\n",
       "      <td>0.636956</td>\n",
       "    </tr>\n",
       "    <tr>\n",
       "      <th>0</th>\n",
       "      <td>SVR</td>\n",
       "      <td>27565.896932</td>\n",
       "      <td>44712.581433</td>\n",
       "      <td>0.221982</td>\n",
       "      <td>0.699716</td>\n",
       "    </tr>\n",
       "    <tr>\n",
       "      <th>0</th>\n",
       "      <td>RFR</td>\n",
       "      <td>29055.402915</td>\n",
       "      <td>46162.744326</td>\n",
       "      <td>0.236996</td>\n",
       "      <td>0.679921</td>\n",
       "    </tr>\n",
       "    <tr>\n",
       "      <th>0</th>\n",
       "      <td>XGBR</td>\n",
       "      <td>27579.820151</td>\n",
       "      <td>43928.670383</td>\n",
       "      <td>0.222756</td>\n",
       "      <td>0.710153</td>\n",
       "    </tr>\n",
       "    <tr>\n",
       "      <th>0</th>\n",
       "      <td>ENR</td>\n",
       "      <td>57714.060878</td>\n",
       "      <td>84014.295402</td>\n",
       "      <td>0.511153</td>\n",
       "      <td>-0.06018</td>\n",
       "    </tr>\n",
       "  </tbody>\n",
       "</table>\n",
       "</div>"
      ],
      "text/plain": [
       "        model           mae          rmse      mape        r2\n",
       "0  reg_linear  31704.797791   49163.54146  0.263146  0.636956\n",
       "0         SVR  27565.896932  44712.581433  0.221982  0.699716\n",
       "0         RFR  29055.402915  46162.744326  0.236996  0.679921\n",
       "0        XGBR  27579.820151  43928.670383  0.222756  0.710153\n",
       "0         ENR  57714.060878  84014.295402  0.511153  -0.06018"
      ]
     },
     "execution_count": 62,
     "metadata": {},
     "output_type": "execute_result"
    }
   ],
   "source": [
    "results"
   ]
  },
  {
   "attachments": {},
   "cell_type": "markdown",
   "metadata": {},
   "source": [
    "Os resultados mostram que o XGBoost é ligeiramente melhor que o SVM pois têm valores de RMSE e menor e R² maior. Já quanto ao MAPE os dois têm praticamente o mesmo valor. Para o MAE o SVM apresentou melhor desempenho.\n",
    "\n",
    "Como o RMSE é uma métrica mais sensível a outliers, ter um valor menor nesta métrica significa que o modelo é mais robusto em relação aos outliers. Por isso, será adotado o modelo XGBoost para a predição dos valores do conjunto de teste."
   ]
  },
  {
   "attachments": {},
   "cell_type": "markdown",
   "metadata": {},
   "source": [
    "## 3.6 Predições do arquivo de teste"
   ]
  },
  {
   "attachments": {},
   "cell_type": "markdown",
   "metadata": {},
   "source": [
    "Primeiro o modelo escolhido é retreinado com todo o dataset de treino."
   ]
  },
  {
   "cell_type": "code",
   "execution_count": 63,
   "metadata": {},
   "outputs": [
    {
     "name": "stderr",
     "output_type": "stream",
     "text": [
      "/tmp/ipykernel_151255/755657626.py:10: SettingWithCopyWarning: \n",
      "A value is trying to be set on a copy of a slice from a DataFrame.\n",
      "Try using .loc[row_indexer,col_indexer] = value instead\n",
      "\n",
      "See the caveats in the documentation: https://pandas.pydata.org/pandas-docs/stable/user_guide/indexing.html#returning-a-view-versus-a-copy\n",
      "  x_train['hodometro'] = boxcox(x_train['hodometro'], lambda_hodometro)\n"
     ]
    },
    {
     "data": {
      "text/html": [
       "<style>#sk-container-id-3 {color: black;background-color: white;}#sk-container-id-3 pre{padding: 0;}#sk-container-id-3 div.sk-toggleable {background-color: white;}#sk-container-id-3 label.sk-toggleable__label {cursor: pointer;display: block;width: 100%;margin-bottom: 0;padding: 0.3em;box-sizing: border-box;text-align: center;}#sk-container-id-3 label.sk-toggleable__label-arrow:before {content: \"▸\";float: left;margin-right: 0.25em;color: #696969;}#sk-container-id-3 label.sk-toggleable__label-arrow:hover:before {color: black;}#sk-container-id-3 div.sk-estimator:hover label.sk-toggleable__label-arrow:before {color: black;}#sk-container-id-3 div.sk-toggleable__content {max-height: 0;max-width: 0;overflow: hidden;text-align: left;background-color: #f0f8ff;}#sk-container-id-3 div.sk-toggleable__content pre {margin: 0.2em;color: black;border-radius: 0.25em;background-color: #f0f8ff;}#sk-container-id-3 input.sk-toggleable__control:checked~div.sk-toggleable__content {max-height: 200px;max-width: 100%;overflow: auto;}#sk-container-id-3 input.sk-toggleable__control:checked~label.sk-toggleable__label-arrow:before {content: \"▾\";}#sk-container-id-3 div.sk-estimator input.sk-toggleable__control:checked~label.sk-toggleable__label {background-color: #d4ebff;}#sk-container-id-3 div.sk-label input.sk-toggleable__control:checked~label.sk-toggleable__label {background-color: #d4ebff;}#sk-container-id-3 input.sk-hidden--visually {border: 0;clip: rect(1px 1px 1px 1px);clip: rect(1px, 1px, 1px, 1px);height: 1px;margin: -1px;overflow: hidden;padding: 0;position: absolute;width: 1px;}#sk-container-id-3 div.sk-estimator {font-family: monospace;background-color: #f0f8ff;border: 1px dotted black;border-radius: 0.25em;box-sizing: border-box;margin-bottom: 0.5em;}#sk-container-id-3 div.sk-estimator:hover {background-color: #d4ebff;}#sk-container-id-3 div.sk-parallel-item::after {content: \"\";width: 100%;border-bottom: 1px solid gray;flex-grow: 1;}#sk-container-id-3 div.sk-label:hover label.sk-toggleable__label {background-color: #d4ebff;}#sk-container-id-3 div.sk-serial::before {content: \"\";position: absolute;border-left: 1px solid gray;box-sizing: border-box;top: 0;bottom: 0;left: 50%;z-index: 0;}#sk-container-id-3 div.sk-serial {display: flex;flex-direction: column;align-items: center;background-color: white;padding-right: 0.2em;padding-left: 0.2em;position: relative;}#sk-container-id-3 div.sk-item {position: relative;z-index: 1;}#sk-container-id-3 div.sk-parallel {display: flex;align-items: stretch;justify-content: center;background-color: white;position: relative;}#sk-container-id-3 div.sk-item::before, #sk-container-id-3 div.sk-parallel-item::before {content: \"\";position: absolute;border-left: 1px solid gray;box-sizing: border-box;top: 0;bottom: 0;left: 50%;z-index: -1;}#sk-container-id-3 div.sk-parallel-item {display: flex;flex-direction: column;z-index: 1;position: relative;background-color: white;}#sk-container-id-3 div.sk-parallel-item:first-child::after {align-self: flex-end;width: 50%;}#sk-container-id-3 div.sk-parallel-item:last-child::after {align-self: flex-start;width: 50%;}#sk-container-id-3 div.sk-parallel-item:only-child::after {width: 0;}#sk-container-id-3 div.sk-dashed-wrapped {border: 1px dashed gray;margin: 0 0.4em 0.5em 0.4em;box-sizing: border-box;padding-bottom: 0.4em;background-color: white;}#sk-container-id-3 div.sk-label label {font-family: monospace;font-weight: bold;display: inline-block;line-height: 1.2em;}#sk-container-id-3 div.sk-label-container {text-align: center;}#sk-container-id-3 div.sk-container {/* jupyter's `normalize.less` sets `[hidden] { display: none; }` but bootstrap.min.css set `[hidden] { display: none !important; }` so we also need the `!important` here to be able to override the default hidden behavior on the sphinx rendered scikit-learn.org. See: https://github.com/scikit-learn/scikit-learn/issues/21755 */display: inline-block !important;position: relative;}#sk-container-id-3 div.sk-text-repr-fallback {display: none;}</style><div id=\"sk-container-id-3\" class=\"sk-top-container\"><div class=\"sk-text-repr-fallback\"><pre>Pipeline(steps=[(&#x27;preprocessor&#x27;,\n",
       "                 ColumnTransformer(transformers=[(&#x27;cat&#x27;,\n",
       "                                                  Pipeline(steps=[(&#x27;encoder&#x27;,\n",
       "                                                                   OneHotEncoder(handle_unknown=&#x27;ignore&#x27;))]),\n",
       "                                                  [&#x27;combustivel&#x27;, &#x27;motor&#x27;,\n",
       "                                                   &#x27;cambio&#x27;, &#x27;marca&#x27;, &#x27;tipo&#x27;,\n",
       "                                                   &#x27;cor&#x27;]),\n",
       "                                                 (&#x27;num&#x27;,\n",
       "                                                  Pipeline(steps=[(&#x27;scaler&#x27;,\n",
       "                                                                   MinMaxScaler())]),\n",
       "                                                  [&#x27;idade&#x27;, &#x27;hodometro&#x27;,\n",
       "                                                   &#x27;dono_aceita_troca&#x27;])])),\n",
       "                (&#x27;regressor&#x27;,\n",
       "                 XGBRegressor(base_score=None, booster=None, cal...\n",
       "                              feature_types=None, gamma=None, gpu_id=None,\n",
       "                              grow_policy=None, importance_type=None,\n",
       "                              interaction_constraints=None, learning_rate=None,\n",
       "                              max_bin=None, max_cat_threshold=None,\n",
       "                              max_cat_to_onehot=None, max_delta_step=None,\n",
       "                              max_depth=None, max_leaves=None,\n",
       "                              min_child_weight=None, missing=nan,\n",
       "                              monotone_constraints=None, n_estimators=100,\n",
       "                              n_jobs=None, num_parallel_tree=None,\n",
       "                              predictor=None, random_state=101, ...))])</pre><b>In a Jupyter environment, please rerun this cell to show the HTML representation or trust the notebook. <br />On GitHub, the HTML representation is unable to render, please try loading this page with nbviewer.org.</b></div><div class=\"sk-container\" hidden><div class=\"sk-item sk-dashed-wrapped\"><div class=\"sk-label-container\"><div class=\"sk-label sk-toggleable\"><input class=\"sk-toggleable__control sk-hidden--visually\" id=\"sk-estimator-id-15\" type=\"checkbox\" ><label for=\"sk-estimator-id-15\" class=\"sk-toggleable__label sk-toggleable__label-arrow\">Pipeline</label><div class=\"sk-toggleable__content\"><pre>Pipeline(steps=[(&#x27;preprocessor&#x27;,\n",
       "                 ColumnTransformer(transformers=[(&#x27;cat&#x27;,\n",
       "                                                  Pipeline(steps=[(&#x27;encoder&#x27;,\n",
       "                                                                   OneHotEncoder(handle_unknown=&#x27;ignore&#x27;))]),\n",
       "                                                  [&#x27;combustivel&#x27;, &#x27;motor&#x27;,\n",
       "                                                   &#x27;cambio&#x27;, &#x27;marca&#x27;, &#x27;tipo&#x27;,\n",
       "                                                   &#x27;cor&#x27;]),\n",
       "                                                 (&#x27;num&#x27;,\n",
       "                                                  Pipeline(steps=[(&#x27;scaler&#x27;,\n",
       "                                                                   MinMaxScaler())]),\n",
       "                                                  [&#x27;idade&#x27;, &#x27;hodometro&#x27;,\n",
       "                                                   &#x27;dono_aceita_troca&#x27;])])),\n",
       "                (&#x27;regressor&#x27;,\n",
       "                 XGBRegressor(base_score=None, booster=None, cal...\n",
       "                              feature_types=None, gamma=None, gpu_id=None,\n",
       "                              grow_policy=None, importance_type=None,\n",
       "                              interaction_constraints=None, learning_rate=None,\n",
       "                              max_bin=None, max_cat_threshold=None,\n",
       "                              max_cat_to_onehot=None, max_delta_step=None,\n",
       "                              max_depth=None, max_leaves=None,\n",
       "                              min_child_weight=None, missing=nan,\n",
       "                              monotone_constraints=None, n_estimators=100,\n",
       "                              n_jobs=None, num_parallel_tree=None,\n",
       "                              predictor=None, random_state=101, ...))])</pre></div></div></div><div class=\"sk-serial\"><div class=\"sk-item sk-dashed-wrapped\"><div class=\"sk-label-container\"><div class=\"sk-label sk-toggleable\"><input class=\"sk-toggleable__control sk-hidden--visually\" id=\"sk-estimator-id-16\" type=\"checkbox\" ><label for=\"sk-estimator-id-16\" class=\"sk-toggleable__label sk-toggleable__label-arrow\">preprocessor: ColumnTransformer</label><div class=\"sk-toggleable__content\"><pre>ColumnTransformer(transformers=[(&#x27;cat&#x27;,\n",
       "                                 Pipeline(steps=[(&#x27;encoder&#x27;,\n",
       "                                                  OneHotEncoder(handle_unknown=&#x27;ignore&#x27;))]),\n",
       "                                 [&#x27;combustivel&#x27;, &#x27;motor&#x27;, &#x27;cambio&#x27;, &#x27;marca&#x27;,\n",
       "                                  &#x27;tipo&#x27;, &#x27;cor&#x27;]),\n",
       "                                (&#x27;num&#x27;,\n",
       "                                 Pipeline(steps=[(&#x27;scaler&#x27;, MinMaxScaler())]),\n",
       "                                 [&#x27;idade&#x27;, &#x27;hodometro&#x27;, &#x27;dono_aceita_troca&#x27;])])</pre></div></div></div><div class=\"sk-parallel\"><div class=\"sk-parallel-item\"><div class=\"sk-item\"><div class=\"sk-label-container\"><div class=\"sk-label sk-toggleable\"><input class=\"sk-toggleable__control sk-hidden--visually\" id=\"sk-estimator-id-17\" type=\"checkbox\" ><label for=\"sk-estimator-id-17\" class=\"sk-toggleable__label sk-toggleable__label-arrow\">cat</label><div class=\"sk-toggleable__content\"><pre>[&#x27;combustivel&#x27;, &#x27;motor&#x27;, &#x27;cambio&#x27;, &#x27;marca&#x27;, &#x27;tipo&#x27;, &#x27;cor&#x27;]</pre></div></div></div><div class=\"sk-serial\"><div class=\"sk-item\"><div class=\"sk-serial\"><div class=\"sk-item\"><div class=\"sk-estimator sk-toggleable\"><input class=\"sk-toggleable__control sk-hidden--visually\" id=\"sk-estimator-id-18\" type=\"checkbox\" ><label for=\"sk-estimator-id-18\" class=\"sk-toggleable__label sk-toggleable__label-arrow\">OneHotEncoder</label><div class=\"sk-toggleable__content\"><pre>OneHotEncoder(handle_unknown=&#x27;ignore&#x27;)</pre></div></div></div></div></div></div></div></div><div class=\"sk-parallel-item\"><div class=\"sk-item\"><div class=\"sk-label-container\"><div class=\"sk-label sk-toggleable\"><input class=\"sk-toggleable__control sk-hidden--visually\" id=\"sk-estimator-id-19\" type=\"checkbox\" ><label for=\"sk-estimator-id-19\" class=\"sk-toggleable__label sk-toggleable__label-arrow\">num</label><div class=\"sk-toggleable__content\"><pre>[&#x27;idade&#x27;, &#x27;hodometro&#x27;, &#x27;dono_aceita_troca&#x27;]</pre></div></div></div><div class=\"sk-serial\"><div class=\"sk-item\"><div class=\"sk-serial\"><div class=\"sk-item\"><div class=\"sk-estimator sk-toggleable\"><input class=\"sk-toggleable__control sk-hidden--visually\" id=\"sk-estimator-id-20\" type=\"checkbox\" ><label for=\"sk-estimator-id-20\" class=\"sk-toggleable__label sk-toggleable__label-arrow\">MinMaxScaler</label><div class=\"sk-toggleable__content\"><pre>MinMaxScaler()</pre></div></div></div></div></div></div></div></div></div></div><div class=\"sk-item\"><div class=\"sk-estimator sk-toggleable\"><input class=\"sk-toggleable__control sk-hidden--visually\" id=\"sk-estimator-id-21\" type=\"checkbox\" ><label for=\"sk-estimator-id-21\" class=\"sk-toggleable__label sk-toggleable__label-arrow\">XGBRegressor</label><div class=\"sk-toggleable__content\"><pre>XGBRegressor(base_score=None, booster=None, callbacks=None,\n",
       "             colsample_bylevel=None, colsample_bynode=None,\n",
       "             colsample_bytree=None, early_stopping_rounds=None,\n",
       "             enable_categorical=False, eval_metric=None, feature_types=None,\n",
       "             gamma=None, gpu_id=None, grow_policy=None, importance_type=None,\n",
       "             interaction_constraints=None, learning_rate=None, max_bin=None,\n",
       "             max_cat_threshold=None, max_cat_to_onehot=None,\n",
       "             max_delta_step=None, max_depth=None, max_leaves=None,\n",
       "             min_child_weight=None, missing=nan, monotone_constraints=None,\n",
       "             n_estimators=100, n_jobs=None, num_parallel_tree=None,\n",
       "             predictor=None, random_state=101, ...)</pre></div></div></div></div></div></div></div>"
      ],
      "text/plain": [
       "Pipeline(steps=[('preprocessor',\n",
       "                 ColumnTransformer(transformers=[('cat',\n",
       "                                                  Pipeline(steps=[('encoder',\n",
       "                                                                   OneHotEncoder(handle_unknown='ignore'))]),\n",
       "                                                  ['combustivel', 'motor',\n",
       "                                                   'cambio', 'marca', 'tipo',\n",
       "                                                   'cor']),\n",
       "                                                 ('num',\n",
       "                                                  Pipeline(steps=[('scaler',\n",
       "                                                                   MinMaxScaler())]),\n",
       "                                                  ['idade', 'hodometro',\n",
       "                                                   'dono_aceita_troca'])])),\n",
       "                ('regressor',\n",
       "                 XGBRegressor(base_score=None, booster=None, cal...\n",
       "                              feature_types=None, gamma=None, gpu_id=None,\n",
       "                              grow_policy=None, importance_type=None,\n",
       "                              interaction_constraints=None, learning_rate=None,\n",
       "                              max_bin=None, max_cat_threshold=None,\n",
       "                              max_cat_to_onehot=None, max_delta_step=None,\n",
       "                              max_depth=None, max_leaves=None,\n",
       "                              min_child_weight=None, missing=nan,\n",
       "                              monotone_constraints=None, n_estimators=100,\n",
       "                              n_jobs=None, num_parallel_tree=None,\n",
       "                              predictor=None, random_state=101, ...))])"
      ]
     },
     "execution_count": 63,
     "metadata": {},
     "output_type": "execute_result"
    }
   ],
   "source": [
    "features = ['combustivel', 'motor', 'cambio',\n",
    "            'marca', 'tipo', 'cor', 'idade',\n",
    "            'hodometro', 'dono_aceita_troca']\n",
    "\n",
    "x_train = df_train[features]\n",
    "y_train = df_train['preco']\n",
    "\n",
    "# Aplicando transformações\n",
    "y_train = np.log(y_train)\n",
    "x_train['hodometro'] = boxcox(x_train['hodometro'], lambda_hodometro)\n",
    "\n",
    "# Treinando modelo\n",
    "reg_xgbr = Pipeline(\n",
    "        steps=[\n",
    "            (\"preprocessor\", preprocessor2),\n",
    "            (\"regressor\", XGBRegressor(random_state=101))\n",
    "        ]\n",
    "    )\n",
    "\n",
    "reg_xgbr.fit(x_train, y_train)"
   ]
  },
  {
   "attachments": {},
   "cell_type": "markdown",
   "metadata": {},
   "source": [
    "Realizando predições no dataset de teste."
   ]
  },
  {
   "attachments": {},
   "cell_type": "markdown",
   "metadata": {},
   "source": [
    "Tratamento dos dados."
   ]
  },
  {
   "cell_type": "code",
   "execution_count": 64,
   "metadata": {},
   "outputs": [],
   "source": [
    "# Extração das features contidas na coluna versao\n",
    "df_test['motor'] = df_test['versao'].str.split(' ').str[0]\n",
    "df_test['motor'].replace([\"EV\", \"B12P\", \"P8\", \"Z.E.\", \"4S\", \"TURBO\", \"BEV\", \"ELÉTRICO\"], \"elétrico\", inplace=True)\n",
    "\n",
    "combustiveis = []\n",
    "\n",
    "for versao in df_test['versao']:\n",
    "    versao = versao.lower()\n",
    "    if versao.find('flex') != -1:\n",
    "        combustiveis.append('flex')\n",
    "    elif versao.find('diesel') != -1:\n",
    "        combustiveis.append('diesel')\n",
    "    elif versao.find('elétrico') != -1:\n",
    "        combustiveis.append('elétrico')\n",
    "    else:\n",
    "        combustiveis.append('gasolina')\n",
    "\n",
    "df_test['combustivel'] = combustiveis\n",
    "\n",
    "# Cálculo da idade do veículo\n",
    "df_test['idade'] = 2023 - df_test['ano_de_fabricacao']\n",
    "\n",
    "# Padronização de variáveis categóricas\n",
    "df_test['dono_aceita_troca'].replace([np.NaN, 'Aceita troca'], [0, 1], inplace=True)\n",
    "df_test['cambio'] = ['Manual' if manual else 'Automático' for manual in df_test['cambio'].str.lower().str.find('manual') != -1]\n"
   ]
  },
  {
   "attachments": {},
   "cell_type": "markdown",
   "metadata": {},
   "source": [
    "Predição dos valores."
   ]
  },
  {
   "cell_type": "code",
   "execution_count": 65,
   "metadata": {},
   "outputs": [
    {
     "name": "stderr",
     "output_type": "stream",
     "text": [
      "/tmp/ipykernel_151255/4050030979.py:2: SettingWithCopyWarning: \n",
      "A value is trying to be set on a copy of a slice from a DataFrame.\n",
      "Try using .loc[row_indexer,col_indexer] = value instead\n",
      "\n",
      "See the caveats in the documentation: https://pandas.pydata.org/pandas-docs/stable/user_guide/indexing.html#returning-a-view-versus-a-copy\n",
      "  x_test['hodometro'] = boxcox(x_test['hodometro'], lambda_hodometro) # Normalização dos valores\n"
     ]
    }
   ],
   "source": [
    "x_test = df_test[features] # Seleção das features necessárias\n",
    "x_test['hodometro'] = boxcox(x_test['hodometro'], lambda_hodometro) # Normalização dos valores\n",
    "\n",
    "# Predição do preço dos veículos\n",
    "pred_test = np.exp(reg_xgbr.predict(x_test))\n",
    "\n",
    "# Exportando os resultados obtidos\n",
    "pred_test = pd.DataFrame(pred_test, columns=['preco'])\n",
    "pred_test['id'] = df_test['id']\n",
    "pred_test = pred_test[['id', 'preco']]\n",
    "pred_test.to_csv('predicted.csv', index=False)"
   ]
  },
  {
   "cell_type": "code",
   "execution_count": null,
   "metadata": {},
   "outputs": [],
   "source": []
  }
 ],
 "metadata": {
  "kernelspec": {
   "display_name": "doc",
   "language": "python",
   "name": "python3"
  },
  "language_info": {
   "codemirror_mode": {
    "name": "ipython",
    "version": 3
   },
   "file_extension": ".py",
   "mimetype": "text/x-python",
   "name": "python",
   "nbconvert_exporter": "python",
   "pygments_lexer": "ipython3",
   "version": "3.11.0"
  },
  "orig_nbformat": 4
 },
 "nbformat": 4,
 "nbformat_minor": 2
}
